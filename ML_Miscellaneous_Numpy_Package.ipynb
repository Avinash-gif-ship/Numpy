{
 "cells": [
  {
   "cell_type": "code",
   "execution_count": 12,
   "id": "b1145ccf",
   "metadata": {},
   "outputs": [
    {
     "name": "stdout",
     "output_type": "stream",
     "text": [
      "Step 1: We are transposing the list of x0 and x1 variables from rows to columns:\n",
      " [[0 1 2]\n",
      " [2 1 0]]\n",
      "Step 2 Note how  increases while  decreases. The covariance matrix shows this clearly:\n",
      " [[ 1. -1.]\n",
      " [-1.  1.]]\n"
     ]
    }
   ],
   "source": [
    "#Covariance\n",
    "\n",
    "#Consider two variables, x0 and x1 and , which correlate perfectly, but in opposite directions:\n",
    "# The two variables x0 and x1 are implemented as the list of values\n",
    "import numpy as np\n",
    "#print([0, 2], [1, 1], [2, 0])\n",
    "#Step1: We are transposing the list of x0 and x1 variables from rows to columns\n",
    "x = np.array([[0, 2], [1, 1], [2, 0]]).T\n",
    "print('Step 1: We are transposing the list of x0 and x1 variables from rows to columns:\\n',x)\n",
    "#Step 2 Note how x0 increases while x1 decreases. The covariance matrix shows this clearly:\n",
    "print('Step 2: Note how  x0 and x1 increases while  decreases. The covariance matrix shows this clearly:\\n',np.cov(x))\n",
    "\n"
   ]
  },
  {
   "cell_type": "code",
   "execution_count": 38,
   "id": "338c5205",
   "metadata": {},
   "outputs": [
    {
     "name": "stdout",
     "output_type": "stream",
     "text": [
      "[[-2.1   3.  ]\n",
      " [-1.    1.1 ]\n",
      " [ 4.3   0.12]]\n"
     ]
    }
   ],
   "source": [
    "#Stack\n",
    "\n",
    "import numpy as np\n",
    "#Joins a sequence of arrays along a new axis\n",
    "#help(np.stack)\n",
    "#print([-2.1, -1,  4.3], [3,  1.1,  0.12])\n",
    "# axis = 0 means column-wise and axis 1 means row-wise\n",
    "X = np.stack(([-2.1, -1,  4.3], [3,  1.1,  0.12]),axis = 1)\n",
    "print(X)"
   ]
  },
  {
   "cell_type": "code",
   "execution_count": 39,
   "id": "d1fa0acb",
   "metadata": {},
   "outputs": [
    {
     "name": "stdout",
     "output_type": "stream",
     "text": [
      "[[1]\n",
      " [2]\n",
      " [3]]\n"
     ]
    }
   ],
   "source": [
    "print(np.array([[1], [2], [3]]))\n"
   ]
  },
  {
   "cell_type": "code",
   "execution_count": 44,
   "id": "8e5bb70e",
   "metadata": {},
   "outputs": [
    {
     "name": "stdout",
     "output_type": "stream",
     "text": [
      "[[1 2 3]\n",
      " [4 5 6]]\n"
     ]
    }
   ],
   "source": [
    "#Vertical stack\n",
    "\n",
    "#The numbers are vertically stacked\n",
    "a = np.array([1, 2, 3])\n",
    "b = np.array([4, 5, 6])\n",
    "print(np.vstack((a,b)))\n"
   ]
  },
  {
   "cell_type": "code",
   "execution_count": 46,
   "id": "2fb3c6ff",
   "metadata": {},
   "outputs": [
    {
     "data": {
      "text/plain": [
       "array([[1, 4],\n",
       "       [2, 5],\n",
       "       [3, 6]])"
      ]
     },
     "execution_count": 46,
     "metadata": {},
     "output_type": "execute_result"
    }
   ],
   "source": [
    "a = np.array([[1], [2], [3]])\n",
    "b = np.array([[4], [5], [6]])\n",
    "np.hstack((a,b))\n"
   ]
  },
  {
   "cell_type": "code",
   "execution_count": 69,
   "id": "71e0dd77",
   "metadata": {},
   "outputs": [
    {
     "name": "stdout",
     "output_type": "stream",
     "text": [
      "The array of 15 elements with the size of 3 rows and 5 columns:\n",
      " [[ 0  1  2  3  4]\n",
      " [ 5  6  7  8  9]\n",
      " [10 11 12 13 14]]\n",
      "The shape of the array is:\n",
      " (3, 5)\n",
      "[[  0   1   2   3   4]\n",
      " [-99   6 -99   8 -99]\n",
      " [-99  11 -99  13 -99]]\n",
      "The dimensions of the array:\n",
      " 2\n"
     ]
    },
    {
     "data": {
      "text/plain": [
       "array([ 4,  8, 13])"
      ]
     },
     "execution_count": 69,
     "metadata": {},
     "output_type": "execute_result"
    }
   ],
   "source": [
    "#step1: Create a 2-D array of 15 elements having all elements as integer and  with the size of 3 rows and 5 colums\n",
    "import numpy as np\n",
    "\n",
    "a = np.arange(15).reshape(3,5)\n",
    "print('The array of 15 elements with the size of 3 rows and 5 columns:\\n',a)\n",
    "\n",
    "#step 2: Find the shape of the array\n",
    "print('The shape of the array is:\\n',a.shape)\n",
    "\n",
    "#step 3:\n",
    "a[1:, ::2] = -99\n",
    "print(a)\n",
    "\n",
    "#step 4:Find the dimensions of the array\n",
    "print('The dimensions of the array:\\n',a.ndim)\n",
    "\n",
    "#Step 5: Find the maximum element of the array in each row. Since axis or the dimension would be row wise or column wise \n",
    "#,however for the column wise we named the axes as 0.\n",
    "a.max(axis=1)\n"
   ]
  },
  {
   "cell_type": "code",
   "execution_count": 72,
   "id": "e2ac5a68",
   "metadata": {},
   "outputs": [
    {
     "name": "stdout",
     "output_type": "stream",
     "text": [
      "Function zeros creates an array of zeros with 10 zeros:\n",
      " [0. 0. 0. 0. 0. 0. 0. 0. 0. 0.]\n",
      "Function zeros creates an array of zeros having 3 rows and 4 columns:\n",
      " [[0. 0. 0. 0.]\n",
      " [0. 0. 0. 0.]\n",
      " [0. 0. 0. 0.]]\n"
     ]
    },
    {
     "data": {
      "text/plain": [
       "array([[[1, 1, 1, 1],\n",
       "        [1, 1, 1, 1],\n",
       "        [1, 1, 1, 1]],\n",
       "\n",
       "       [[1, 1, 1, 1],\n",
       "        [1, 1, 1, 1],\n",
       "        [1, 1, 1, 1]]], dtype=int16)"
      ]
     },
     "execution_count": 72,
     "metadata": {},
     "output_type": "execute_result"
    }
   ],
   "source": [
    "#Step 1: Function zeros() creates an array of zeros\n",
    "import numpy as np\n",
    "print('Function zeros creates an array of zeros with 10 zeros:\\n',np.zeros(10))\n",
    "\n",
    "#step 2: Function zeros() creates an array of zeros arranged in a 3 rows and 4 columns\n",
    "print('Function zeros creates an array of zeros having 3 rows and 4 columns:\\n',(np.zeros((3,4))))\n",
    "\n",
    "#step 3: creates an array full of ones having 3 rows and 4 columns with 2 dimension with all integers.Note that by default the data\n",
    "#type is float\n",
    "np.ones((2,3,4),np.int16)\n"
   ]
  },
  {
   "cell_type": "code",
   "execution_count": 84,
   "id": "47b22798",
   "metadata": {},
   "outputs": [
    {
     "name": "stdout",
     "output_type": "stream",
     "text": [
      "The sequence of numbers starting with 10 and ending with 30 having the increment of 5:\n",
      " [10 15 20 25]\n",
      "The sequence of numbers srating with float 0 and ending with float 2 having an increment of 0.3:\n",
      " [0.  0.3 0.6 0.9 1.2 1.5 1.8]\n"
     ]
    },
    {
     "data": {
      "text/plain": [
       "array([0.  , 0.25, 0.5 , 0.75, 1.  , 1.25, 1.5 , 1.75, 2.  ])"
      ]
     },
     "execution_count": 84,
     "metadata": {},
     "output_type": "execute_result"
    }
   ],
   "source": [
    "# Sequence of Numbers:To create a sequence of Numbers using arange which is similar to Python's built-in range method.\n",
    "\n",
    "#Step1:create a sequence of numbers starting with 10 and ending wtih 30 with an increment of 5\n",
    "print('The sequence of numbers starting with 10 and ending with 30 having the increment of 5:\\n',np.arange(10,30,5))\n",
    "\n",
    "#step 2: create a sequence of numbers srating with float 0 and ending with float 2 having an increment of 0.3\n",
    "print('The sequence of numbers srating with float 0 and ending with float 2 having an increment of 0.3:\\n',np.arange(0,2,0.3))\n",
    "\n",
    "#step 3: create from 0 t0 2 having 9 numbers\n",
    "np.linspace(0,2,9)\n"
   ]
  },
  {
   "cell_type": "code",
   "execution_count": 95,
   "id": "83f6f98d",
   "metadata": {},
   "outputs": [
    {
     "name": "stdout",
     "output_type": "stream",
     "text": [
      "After substracting the array b from array a we get:\n",
      " [20 29 38 47]\n",
      "Doubles the values of an array b:\n",
      "  [0 1 4 9]\n",
      "printing array A:\n",
      " [[1 1]\n",
      " [0 1]]\n",
      "printing array B:\n",
      " [[2 0]\n",
      " [3 4]]\n",
      "The element wise product for the array A and B is:\n",
      " [[2 0]\n",
      " [0 4]]\n"
     ]
    },
    {
     "data": {
      "text/plain": [
       "array([[5, 4],\n",
       "       [3, 4]])"
      ]
     },
     "execution_count": 95,
     "metadata": {},
     "output_type": "execute_result"
    }
   ],
   "source": [
    "# Basic operation Elementwise\n",
    "#Step1: The array is the list of 4 hardcoded elements where array b is the elements from 0 to 3 using array range function.\n",
    "a = np.array([20, 30, 40, 50])\n",
    "b = np.arange(4)\n",
    "c = a - b\n",
    "print('After substracting the array b from array a we get:\\n',c)\n",
    "\n",
    "#Step2: The exponent operation\n",
    "print('Doubles the values of an array b:\\n ',b**2)\n",
    "\n",
    "#Step3: The dot function\n",
    "A = np.array([[1, 1],\n",
    "              [0, 1]])\n",
    "print('printing array A:\\n',A)\n",
    "B = np.array([[2, 0],\n",
    "              [3, 4]])\n",
    "print('printing array B:\\n',B)\n",
    "print('The element wise product for the array A and B is:\\n',A * B)     # elementwise product\n",
    "print'The Matrix product of an array A and B is:\\n',(A.dot(B))  # another matrix product\n",
    "\n",
    "\n"
   ]
  },
  {
   "cell_type": "code",
   "execution_count": 105,
   "id": "41b6be9f",
   "metadata": {},
   "outputs": [
    {
     "name": "stdout",
     "output_type": "stream",
     "text": [
      "Generator(PCG64)\n",
      "The value of a:\n",
      " [[0.51182162 0.9504637  0.14415961]\n",
      " [0.94864945 0.31183145 0.42332645]]\n",
      "Finds the minimum value across vertical columns:\n",
      " [0.51182162 0.31183145 0.14415961]\n"
     ]
    }
   ],
   "source": [
    "#unary operation\n",
    "#Step1:create instance of default random number generator\n",
    "rg = np.random.default_rng(1)  # create instance of default random number generator\n",
    "print(rg)\n",
    "\n",
    "#Step2: create a list of default random number generator having 2 rows and 3 columns\n",
    "a = rg.random((2, 3))\n",
    "print('The value of a:\\n',a)\n",
    "print('Finds the minimum value across vertical columns:\\n',a.min(axis=0))\n",
    "\n"
   ]
  },
  {
   "cell_type": "code",
   "execution_count": 115,
   "id": "81e9b054",
   "metadata": {},
   "outputs": [
    {
     "name": "stdout",
     "output_type": "stream",
     "text": [
      "Generate a list of 10 numbers from 0 to 9 and cube its output:\n",
      " [  0   1   8  27  64 125 216 343 512 729]\n",
      "The third element of the array:\n",
      " 8\n",
      "from start to position 6, exclusive, set every 2nd element to 1000 [1000    1 1000   27 1000  125  216  343  512  729]\n",
      "Reversed the array a starting with the backward position:\n",
      " [ 729  512  343  216  125 1000   27 1000    1 1000]\n",
      "9.999999999999998\n",
      "1.0\n",
      "9.999999999999998\n",
      "3.0\n",
      "9.999999999999998\n",
      "5.0\n",
      "5.999999999999999\n",
      "6.999999999999999\n",
      "7.999999999999999\n",
      "8.999999999999998\n"
     ]
    }
   ],
   "source": [
    "#Indexing,Slicing and iterating\n",
    "a=np.arange(10)**3\n",
    "#Step1: Generate a list of 10 numbers from 0 to 9 and cube it's output\n",
    "print('Generate a list of 10 numbers from 0 to 9 and cube its output:\\n',np.arange(10)**3)\n",
    "\n",
    "#step 2: Select the third element from the array\n",
    "print('The third element of the array:\\n',a[2])\n",
    "\n",
    "#step 3:#from start to position 6, exclusive, set every 2nd element to 1000\n",
    "a[:6:2]=1000\n",
    "print('from start to position 6, exclusive, set every 2nd element to 1000',a)\n",
    "\n",
    "#step 4: Reverse a\n",
    "print('Reversed the array a starting with the backward position:\\n',a[::-1]) \n",
    "\n",
    "#step 5: iterating over an element and doing the operation cube root \n",
    "for i in a:\n",
    "    print(i**(1 / 3.))\n",
    "\n"
   ]
  },
  {
   "cell_type": "code",
   "execution_count": 122,
   "id": "8c1d3eda",
   "metadata": {},
   "outputs": [
    {
     "name": "stdout",
     "output_type": "stream",
     "text": [
      "From the default random number having 3 rows and 4 columns we multiplied it with number 10 and took the floor of it:\n",
      " [[5. 9. 1. 9.]\n",
      " [3. 4. 8. 4.]\n",
      " [5. 0. 7. 5.]]\n",
      "Returns the array flattened:\n",
      " [5. 9. 1. 9. 3. 4. 8. 4. 5. 0. 7. 5.]\n",
      "# returns the array with a modified shape:\n",
      " [[5. 9.]\n",
      " [1. 9.]\n",
      " [3. 4.]\n",
      " [8. 4.]\n",
      " [5. 0.]\n",
      " [7. 5.]]\n"
     ]
    }
   ],
   "source": [
    "#section 2 shape manipulation\n",
    "\n",
    "#Step1:create instance of default random number generator\n",
    "rg = np.random.default_rng(1)  # create instance of default random number generator\n",
    "\n",
    "#step2: From the default random number having 3 rows and 4 columns we multiplied it with number 10 and took the floor of it\n",
    "a = np.floor(10 * rg.random((3, 4)))\n",
    "print('From the default random number having 3 rows and 4 columns we multiplied it with number 10 and took the floor of it:\\n',a)\n",
    "\n",
    "#step 3:returns the array flattened \n",
    "print('Returns the array flattened:\\n',a.ravel())\n",
    "\n",
    "#step 4:# returns the array with a modified shape\n",
    "print('# returns the array with a modified shape:\\n',a.reshape(6, 2) ) \n"
   ]
  },
  {
   "cell_type": "code",
   "execution_count": 128,
   "id": "72a30d91",
   "metadata": {},
   "outputs": [
    {
     "name": "stdout",
     "output_type": "stream",
     "text": [
      "From the deafult random number generator having 2 rows and 2 columns we multiplied it with 10 and took the floor of it:\n",
      " [[5. 9.]\n",
      " [1. 9.]]\n",
      "From the deafult random number generator having 2 rows and 2 columns we multiplied it with 10 and took the floor of it:\n",
      " [[3. 4.]\n",
      " [8. 4.]]\n",
      "stacking the arrays vertically:\n",
      " [[5. 9.]\n",
      " [1. 9.]\n",
      " [3. 4.]\n",
      " [8. 4.]]\n",
      "stacking the arrays horizontally [[5. 9. 3. 4.]\n",
      " [1. 9. 8. 4.]]\n"
     ]
    }
   ],
   "source": [
    "# Stacking together different arrays\n",
    "\n",
    "#Step1:create instance of default random number generator\n",
    "rg = np.random.default_rng(1)  # create instance of default random number generator\n",
    "a = np.floor(10 * rg.random((2, 2)))\n",
    "print('From the deafult random number generator having 2 rows and 2 columns we multiplied it with 10 and took the floor of it:\\n',a)\n",
    "\n",
    "#step 2:\n",
    "b = np.floor(10 * rg.random((2, 2)))\n",
    "print('From the deafult random number generator having 2 rows and 2 columns we multiplied it with 10 and took the floor of it:\\n',b)\n",
    "\n",
    "#step 3:Stacking the arrays vertically\n",
    "print('stacking the arrays vertically:\\n',np.vstack((a, b)))\n",
    "\n",
    "#step 4:stacking the arrays horizontally\n",
    "print('stacking the arrays horizontally',np.hstack((a, b)))\n",
    "\n"
   ]
  },
  {
   "cell_type": "code",
   "execution_count": 135,
   "id": "f13bac41",
   "metadata": {},
   "outputs": [
    {
     "name": "stdout",
     "output_type": "stream",
     "text": [
      "creates a random number having 2 rows and 12 columns and then multiplied with 10 followed by the floor function of it:\n",
      " [[5. 9. 1. 9. 3. 4. 8. 4. 5. 0. 7. 5.]\n",
      " [3. 7. 3. 4. 1. 4. 2. 2. 7. 2. 4. 9.]]\n",
      "spliting an array into 3 parts:\n",
      " [array([[5., 9., 1., 9.],\n",
      "       [3., 7., 3., 4.]]), array([[3., 4., 8., 4.],\n",
      "       [1., 4., 2., 2.]]), array([[5., 0., 7., 5.],\n",
      "       [7., 2., 4., 9.]])]\n",
      "Split `a` after the third and the fourth column:\n",
      " [array([[5., 9., 1.],\n",
      "       [3., 7., 3.]]), array([[9.],\n",
      "       [4.]]), array([[3., 4., 8., 4., 5., 0., 7., 5.],\n",
      "       [1., 4., 2., 2., 7., 2., 4., 9.]])]\n"
     ]
    }
   ],
   "source": [
    "# splitting one array into several smaller ones\n",
    "#Step1:create instance of default random number generator\n",
    "rg = np.random.default_rng(1)  # create instance of default random number generator\n",
    "\n",
    "#step2: creates a random number having 2 rows and 12 columns and then multiplied with 10 followed by the floor function of it\n",
    "a = np.floor(10 * rg.random((2, 12)))\n",
    "print('creates a random number having 2 rows and 12 columns and then multiplied with 10 followed by the floor function of it:\\n',a)\n",
    "\n",
    "#step 3: # Split `a` into 3\n",
    "print('spliting an array into 3 parts:\\n',np.hsplit(a, 3))\n",
    "\n",
    "#step 4:# Split `a` after the third and the fourth column\n",
    "print('Split `a` after the third and the fourth column:\\n',np.hsplit(a, (3, 4)))\n",
    "\n",
    "\n"
   ]
  },
  {
   "cell_type": "code",
   "execution_count": 158,
   "id": "462b64c0",
   "metadata": {},
   "outputs": [
    {
     "name": "stdout",
     "output_type": "stream",
     "text": [
      "Create an array with 12 elements with a shape of 3 rows and 4 columns:\n",
      " [[ 0  1  2  3]\n",
      " [ 4  5  6  7]\n",
      " [ 8  9 10 11]]\n",
      "print is c is a:\n",
      " False\n",
      "print is a.view().base is a:\n",
      " False\n",
      "The view array is reshaped into a rows of 2 and a columns of 6:\n",
      " [[ 0  1  2  3  4  5]\n",
      " [ 6  7  8  9 10 11]]\n",
      "The modified data of the view c is:\n",
      " [[   0    1    2    3 1234    5]\n",
      " [   6    7    8    9   10   11]]\n",
      "The base data of array a:\n",
      " [[   0    1    2    3]\n",
      " [1234    5    6    7]\n",
      " [   8    9   10   11]]\n",
      "Slicing the array a:\n",
      " [[ 1  2]\n",
      " [ 5  6]\n",
      " [ 9 10]]\n",
      "[[10 10]\n",
      " [10 10]\n",
      " [10 10]]\n"
     ]
    }
   ],
   "source": [
    "#Section 3 copies and views\n",
    "import numpy as np\n",
    "\n",
    "#Step1: Create an array with 12 elements with a shape of 3 rows and 4 columns\n",
    "a = np.arange(12).reshape(3,4)\n",
    "print('Create an array with 12 elements with a shape of 3 rows and 4 columns:\\n',a)\n",
    "b = a            # no new object is created\n",
    "b is a \n",
    "\n",
    "\n",
    "#Step 2:view or shallow copy. So the view method creates a new array object that looks at the same data.\n",
    "c = a.view()\n",
    "print('print is c is a:\\n',c is a)\n",
    "\n",
    "#step 3:\n",
    "print('print is a.view().base is a:\\n',c.base is a)\n",
    "\n",
    "#step 4: # a's shape doesn't change\n",
    "c = c.reshape((2, 6)) \n",
    "print('The view array is reshaped into a rows of 2 and a columns of 6:\\n',c)\n",
    "\n",
    "#step 5:  # a's data changes\n",
    "c[0, 4] = 1234\n",
    "print('The modified data of the view c is:\\n',c)\n",
    "print('The base data of array a:\\n',a)\n",
    "\n",
    "#Step6: Slicing an array\n",
    "s = a[:, 1:3]\n",
    "print('Slicing the array a:\\n',s)\n",
    "\n",
    "#Step 7: After slicing the arrays make everything to values of 10\n",
    "s[:] = 10\n",
    "print(s[:])\n"
   ]
  },
  {
   "cell_type": "code",
   "execution_count": 165,
   "id": "bf75875f",
   "metadata": {},
   "outputs": [
    {
     "name": "stdout",
     "output_type": "stream",
     "text": [
      "A new array object with a new data is created  having name as d:\n",
      " [[   0   10   10    3]\n",
      " [1234   10   10    7]\n",
      " [   8   10   10   11]]\n",
      "Is d the same data location as of a:\n",
      " False\n",
      "prints the modified value of the d with 0 row and 0 column to 9999:\n",
      " [[9999   10   10    3]\n",
      " [1234   10   10    7]\n",
      " [   8   10   10   11]]\n",
      "The values of the array a:\n",
      " [[   0   10   10    3]\n",
      " [1234   10   10    7]\n",
      " [   8   10   10   11]]\n"
     ]
    }
   ],
   "source": [
    "# Section 3.3 Deep copy\n",
    "\n",
    "#Step 1: a new array object with new data is created\n",
    "d = a.copy() \n",
    "print('A new array object with a new data is created  having name as d:\\n',d)\n",
    "\n",
    "\n",
    "#Step 2: d is a\n",
    "print('Is d the same data location as of a:\\n',d is a)\n",
    "\n",
    "#Step 3: prints the modified value of the d with 0 row and 0 column to 9999\n",
    "d[0, 0] = 9999\n",
    "print('prints the modified value of the d with 0 row and 0 column to 9999:\\n',d)\n",
    "print('The values of the array a:\\n',a)\n",
    "\n"
   ]
  },
  {
   "cell_type": "code",
   "execution_count": 175,
   "id": "96bd16e6",
   "metadata": {},
   "outputs": [
    {
     "name": "stdout",
     "output_type": "stream",
     "text": [
      "The first 12 square numbers:\n",
      " [  0   1   4   9  16  25  36  49  64  81 100 121]\n",
      "The array of index:\n",
      " [1 1 3 8 5]\n",
      "A bidimensional array of indices:\n",
      " [[3 4]\n",
      " [9 7]]\n",
      "The values of array a:\n",
      " [[ 9 16]\n",
      " [81 49]]\n",
      "The array of colours:\n",
      " [[  0   0   0]\n",
      " [255   0   0]\n",
      " [  0 255   0]\n",
      " [  0   0 255]\n",
      " [255 255 255]]\n",
      "The value of the image:\n",
      " [[0 1 2 0]\n",
      " [0 3 4 0]]\n"
     ]
    },
    {
     "data": {
      "text/plain": [
       "array([[[  0,   0,   0],\n",
       "        [255,   0,   0],\n",
       "        [  0, 255,   0],\n",
       "        [  0,   0,   0]],\n",
       "\n",
       "       [[  0,   0,   0],\n",
       "        [  0,   0, 255],\n",
       "        [255, 255, 255],\n",
       "        [  0,   0,   0]]])"
      ]
     },
     "execution_count": 175,
     "metadata": {},
     "output_type": "execute_result"
    }
   ],
   "source": [
    "# Section 4: Advanced Indexing and Index tricks\n",
    "\n",
    "# 4.1 Indexing with Arrays of Indexes\n",
    "\n",
    "#Step 1: # the first 12 square numbers\n",
    "a = np.arange(12)**2 \n",
    "print('The first 12 square numbers:\\n',a)\n",
    "\n",
    "#Step 2:  an array of indices\n",
    "i = np.array([1, 1, 3, 8, 5])  \n",
    "print('The array of index:\\n',i)\n",
    "\n",
    "#Step 3: a bidimensional array of indices\n",
    "j = np.array([[3, 4], [9, 7]])\n",
    "print('A bidimensional array of indices:\\n',j)\n",
    "\n",
    "#Step 4: the same shape as `j`  \n",
    "print('The values of array a:\\n',a[j])\n",
    "\n",
    "#step 5:\n",
    "palette = np.array([[0, 0, 0],         # black\n",
    "                    [255, 0, 0],       # red\n",
    "                    [0, 255, 0],       # green\n",
    "                    [0, 0, 255],       # blue\n",
    "                    [255, 255, 255]])  # white\n",
    "print('The array of colours:\\n',palette)\n",
    "\n",
    "\n",
    "#Step 6:  each value corresponds to a color in the palette\n",
    "image = np.array([[0, 1, 2, 0],\n",
    "                  [0, 3, 4, 0]])\n",
    "print('The value of the image:\\n',image)\n",
    "\n",
    "\n",
    "#Step 7: The (2, 4, 3) color image\n",
    "palette[image]  \n",
    "\n",
    "\n",
    "\n",
    "\n",
    "\n"
   ]
  },
  {
   "cell_type": "code",
   "execution_count": 182,
   "id": "c6c528a1",
   "metadata": {},
   "outputs": [
    {
     "name": "stdout",
     "output_type": "stream",
     "text": [
      "Creating a list of 12 elements having 3 rows and 4 columns:\n",
      " [[ 0  1  2  3]\n",
      " [ 4  5  6  7]\n",
      " [ 8  9 10 11]]\n",
      "Printing the elements of the array a with i as index:\n",
      " [[[ 0  1  2  3]\n",
      "  [ 4  5  6  7]]\n",
      "\n",
      " [[ 4  5  6  7]\n",
      "  [ 8  9 10 11]]]\n",
      "Printing the elements of the array a with  j as index:\n",
      " [[ 2  5]\n",
      " [ 7 11]]\n"
     ]
    }
   ],
   "source": [
    "# Step 1: Creating a list of 12 elements having 3 rows and 4 columns\n",
    "a = np.arange(12).reshape(3, 4)\n",
    "print('Creating a list of 12 elements having 3 rows and 4 columns:\\n',a)\n",
    "\n",
    "#Step 2:indices for the first dim of `a`\n",
    "i = np.array([[0, 1], \n",
    "              [1, 2]])\n",
    "\n",
    "#Step 3: Printing the elements of the array a with i as index \n",
    "print('Printing the elements of the array a with i as index:\\n',a[i])\n",
    "\n",
    "#Step 4:indices for the second dim\n",
    "j = np.array([[2, 1], \n",
    "              [3, 3]])\n",
    "\n",
    "#Step 5:Printing the elements of the array with i as an row index and j as an column index\n",
    "print('Printing the elements of the array a with  j as index:\\n',a[i,j])\n",
    "\n"
   ]
  },
  {
   "cell_type": "code",
   "execution_count": 189,
   "id": "35535c39",
   "metadata": {},
   "outputs": [
    {
     "name": "stdout",
     "output_type": "stream",
     "text": [
      "Create a list of elements for 0 to 5:\n",
      " [0 1 2 3 4]\n",
      "The new values of array a is:\n",
      " [0 0 2 0 0]\n",
      "Create a list of elements for 0 to 5:\n",
      " [0 1 2 3 4]\n",
      "The array a with index 0 which is updated several times:\n",
      " [2 1 3 3 4]\n"
     ]
    }
   ],
   "source": [
    "# Indexing with arrays as a target to assign a value\n",
    "\n",
    "#Step1: Create a list of 5 elements\n",
    "a = np.arange(5)\n",
    "print('Create a list of elements for 0 to 5:\\n',a)\n",
    "\n",
    "#Step2:Assigning the elements at position 1, 3 amd 4 to 0\n",
    "a[[1, 3, 4]] = 0\n",
    "print('The new values of array a is:\\n',a)\n",
    "\n",
    "#If the list contains several repetitions, the assignment is done several times leaving behind the last value.\n",
    "#Step1: Create a list of 5 elements\n",
    "a = np.arange(5)\n",
    "print('Create a list of elements for 0 to 5:\\n',a)\n",
    "\n",
    "#Step2:The same position at 0 is updated twice, first with 1 and then later with 3\n",
    "a[[0, 0, 2]] = [1, 2, 3]\n",
    "print('The array a with index 0 which is updated several times:\\n',a)\n",
    "\n",
    "\n",
    "\n",
    "\n"
   ]
  },
  {
   "cell_type": "code",
   "execution_count": 196,
   "id": "d28d719f",
   "metadata": {},
   "outputs": [
    {
     "name": "stdout",
     "output_type": "stream",
     "text": [
      "Create a list of 12 elements with  3 rows and 4 columns:\n",
      " [[ 0  1  2  3]\n",
      " [ 4  5  6  7]\n",
      " [ 8  9 10 11]]\n",
      "A boolean array b is created with the condition that each element of the array a has to be greater than 4:\n",
      " [[False False False False]\n",
      " [False  True  True  True]\n",
      " [ True  True  True  True]]\n",
      "The elements if the array a with the index as the array b is a 1 dimensional array:\n",
      " [ 5  6  7  8  9 10 11]\n",
      "Assigning all the elements of array a with 0 if the elements of array a is greater than 4:\n",
      " [[0 1 2 3]\n",
      " [4 0 0 0]\n",
      " [0 0 0 0]]\n"
     ]
    }
   ],
   "source": [
    "#Section 4.2 Indexing with Boolean arrays\n",
    "\n",
    "#Step 1:Create a list of 12 elements with  3 rows and 4 columns\n",
    "a = np.arange(12).reshape(3, 4)\n",
    "print('Create a list of 12 elements with  3 rows and 4 columns:\\n',a)\n",
    "\n",
    "#step 2:Created a boolean array with the condition that each element of the array has to be greater than 4.\n",
    "b = a > 4\n",
    "print('A boolean array b is created with the condition that each element of the array a has to be greater than 4:\\n',b)\n",
    "\n",
    "#Step 3: Selecting the elements of the array by considering the Boolean values of aray a\n",
    "print('The elements if the array a with the index as the array b is a 1 dimensional array:\\n',a[b])\n",
    "\n",
    "#Step 4:# All elements of `a` higher than 4 become 0\n",
    "a[b] = 0\n",
    "print('Assigning all the elements of array a with 0 if the elements of array a is greater than 4:\\n',a)\n"
   ]
  },
  {
   "cell_type": "code",
   "execution_count": 197,
   "id": "88f66167",
   "metadata": {},
   "outputs": [
    {
     "data": {
      "text/plain": [
       "<matplotlib.image.AxesImage at 0x28c21aa5e70>"
      ]
     },
     "execution_count": 197,
     "metadata": {},
     "output_type": "execute_result"
    },
    {
     "data": {
      "image/png": "[encoded data removed]",
      "text/plain": [
       "<Figure size 432x288 with 1 Axes>"
      ]
     },
     "metadata": {
      "needs_background": "light"
     },
     "output_type": "display_data"
    }
   ],
   "source": [
    "import numpy as np\n",
    "import matplotlib.pyplot as plt\n",
    "def mandelbrot(h, w, maxit=20, r=2):\n",
    "    \"\"\"Returns an image of the Mandelbrot fractal of size (h,w).\"\"\"\n",
    "    x = np.linspace(-2.5, 1.5, 4*h+1)\n",
    "    y = np.linspace(-1.5, 1.5, 3*w+1)\n",
    "    A, B = np.meshgrid(x, y)\n",
    "    C = A + B*1j\n",
    "    z = np.zeros_like(C)\n",
    "    divtime = maxit + np.zeros(z.shape, dtype=int)\n",
    "\n",
    "    for i in range(maxit):\n",
    "        z = z**2 + C\n",
    "        diverge = abs(z) > r                    # who is diverging\n",
    "        div_now = diverge & (divtime == maxit)  # who is diverging now\n",
    "        divtime[div_now] = i                    # note when\n",
    "        z[diverge] = r                          # avoid diverging too much\n",
    "\n",
    "    return divtime\n",
    "plt.imshow(mandelbrot(400, 400))\n"
   ]
  },
  {
   "cell_type": "code",
   "execution_count": 210,
   "id": "ce119544",
   "metadata": {},
   "outputs": [
    {
     "name": "stdout",
     "output_type": "stream",
     "text": [
      "Create an array of 12 elements with rows of 3 and columns of 4:\n",
      " [[ 0  1  2  3]\n",
      " [ 4  5  6  7]\n",
      " [ 8  9 10 11]]\n",
      "Selecting the rows of the Array A with the Boolean values:\n",
      " [[ 4  5  6  7]\n",
      " [ 8  9 10 11]]\n",
      "Selecting the rows of the Array A with the Boolean values:\n",
      " [[ 0  2]\n",
      " [ 4  6]\n",
      " [ 8 10]]\n"
     ]
    }
   ],
   "source": [
    "#Indexing with Booleans\n",
    "#Step 1: Create an array of 12 elements with rows of 3 and columns of 4\n",
    "a = np.arange(12).reshape(3, 4)\n",
    "print('Create an array of 12 elements with rows of 3 and columns of 4:\\n',a)\n",
    "\n",
    "#Step 2: first dim selection.This means the False means the 0th row, next True means 1th roe and last True means 0th row.\n",
    "b1 = np.array([False, True, True])\n",
    "print('Selecting the rows of the Array A with the Boolean values:\\n',a[b1])\n",
    "\n",
    "#Step 3:  # second dim selection.Selecting the columns of the Array A with the Boolean values\n",
    "b2 = np.array([True, False, True, False])\n",
    "print('Selecting the rows of the Array A with the Boolean values:\\n',a[:,b2])\n",
    "\n",
    "\n"
   ]
  },
  {
   "cell_type": "code",
   "execution_count": 212,
   "id": "d0f7409a",
   "metadata": {},
   "outputs": [
    {
     "name": "stdout",
     "output_type": "stream",
     "text": [
      "[2.1727921  2.41080907 2.16521854 1.34842138 2.45267793 2.22318729\n",
      " 1.73152338 2.29055905 2.1822862  2.14706625]\n"
     ]
    }
   ],
   "source": [
    "#Histogram\n",
    "\n",
    "import numpy as np\n",
    "rg = np.random.default_rng(1)\n",
    "import matplotlib.pyplot as plt\n",
    "# Build a vector of 10000 normal deviates with variance 0.5^2 and mean 2\n",
    "mu, sigma = 2, 0.5\n",
    "v = rg.normal(mu, sigma, 10)\n",
    "print(v)"
   ]
  },
  {
   "cell_type": "code",
   "execution_count": 6,
   "id": "f3080fb7",
   "metadata": {},
   "outputs": [
    {
     "name": "stdout",
     "output_type": "stream",
     "text": [
      "The elements of the array x is:\n",
      " [[1 2]\n",
      " [3 4]]\n",
      "The elements of the array y is:\n",
      " [[5 6]]\n",
      "The elements of both arrays added on axis 0:\n",
      " [[1 2]\n",
      " [3 4]\n",
      " [5 6]]\n"
     ]
    }
   ],
   "source": [
    "# Section Adding,Removing and sorting arrays\n",
    "import numpy as np\n",
    "#Step 1:\n",
    "x = np.array([[1, 2], [3, 4]])\n",
    "print('The elements of the array x is:\\n',x)\n",
    "\n",
    "#Step2:\n",
    "y = np.array([[5, 6]])\n",
    "print('The elements of the array y is:\\n',y)\n",
    "\n",
    "#Step3:The elements of both arrays added on axis 0\n",
    "print('The elements of both arrays added on axis 0:\\n',np.concatenate((x, y), axis=0))\n",
    "\n"
   ]
  },
  {
   "cell_type": "code",
   "execution_count": 11,
   "id": "ddbfda02",
   "metadata": {},
   "outputs": [
    {
     "name": "stdout",
     "output_type": "stream",
     "text": [
      "The elements of the array array_example is:\n",
      " [[[0 1 2 3]\n",
      "  [4 5 6 7]]\n",
      "\n",
      " [[0 1 2 3]\n",
      "  [4 5 6 7]]\n",
      "\n",
      " [[0 1 2 3]\n",
      "  [4 5 6 7]]]\n",
      "The dimensions of the array is:\n",
      " 3\n",
      "The total number of elements of the array is:\n",
      " 24\n",
      "The shape of the array is:\n",
      " (3, 2, 4)\n"
     ]
    }
   ],
   "source": [
    "#Section: How do you know the shape and size of the array\n",
    "\n",
    "#Step 1: Defining the array \n",
    "array_example = np.array([[[0, 1, 2, 3],\n",
    "                           [4, 5, 6, 7]],\n",
    "\n",
    "                          [[0, 1, 2, 3],\n",
    "                           [4, 5, 6, 7]],\n",
    "\n",
    "                          [[0 ,1 ,2, 3],\n",
    "                           [4, 5, 6, 7]]])\n",
    "\n",
    "print('The elements of the array array_example is:\\n',array_example)\n",
    "\n",
    "#Step 2: To find the dimensions of the array\n",
    "print('The dimensions of the array is:\\n',array_example.ndim)\n",
    "\n",
    "#Step 3: Total number of elements of the array\n",
    "print('The total number of elements of the array is:\\n',array_example.size)\n",
    "\n",
    "#Step 4: To find the shape of the array\n",
    "print('The shape of the array is:\\n',array_example.shape)\n"
   ]
  },
  {
   "cell_type": "code",
   "execution_count": 18,
   "id": "27211792",
   "metadata": {},
   "outputs": [
    {
     "name": "stdout",
     "output_type": "stream",
     "text": [
      "The elements of the array A are:\n",
      " [1 2 3 4 5 6]\n",
      "The shape of the array a is:\n",
      " (6,)\n",
      "Adding the new axis to the array a:\n",
      " [[1 2 3 4 5 6]]\n",
      "The shape of the new array after adding the new axis:\n",
      " (1, 6)\n"
     ]
    }
   ],
   "source": [
    "#Section: How to convert a 1-D array to 2-D array\n",
    "\n",
    "#Step1: The elements of the array\n",
    "a = np.array([1, 2, 3, 4, 5, 6])\n",
    "print('The elements of the array A are:\\n',a)\n",
    "\n",
    "#Step 2: The shape of the array\n",
    "print('The shape of the array a is:\\n',a.shape)\n",
    "\n",
    "#step 3: Adding the new Axis\n",
    "a2 = a[np.newaxis, :]\n",
    "print('Adding the new axis to the array a:\\n',a2)\n",
    "\n",
    "#Step 4: The shape of the new array after adding the new axis\n",
    "print('The shape of the new array after adding the new axis:\\n',a2.shape)\n",
    "\n",
    "\n"
   ]
  },
  {
   "cell_type": "code",
   "execution_count": 26,
   "id": "1b00ae80",
   "metadata": {},
   "outputs": [
    {
     "name": "stdout",
     "output_type": "stream",
     "text": [
      "The elements of the array a:\n",
      " [1 2 3 4 5 6]\n",
      "The shape of the array a is :\n",
      " (6,)\n",
      "The shape of the array of adding an axis in the index position 1:\n",
      " (6, 1)\n",
      "The elements of the array b:\n",
      " [[1]\n",
      " [2]\n",
      " [3]\n",
      " [4]\n",
      " [5]\n",
      " [6]]\n",
      "The shape of the array of adding an axis in the index position 0:\n",
      " (1, 6)\n",
      "The elements of the array b:\n",
      " [[1 2 3 4 5 6]]\n"
     ]
    }
   ],
   "source": [
    "# Expanding an array by insering a new axis in the specified position\n",
    "#step1: The elements of the array\n",
    "a = np.array([1, 2, 3, 4,5, 6])\n",
    "print('The elements of the array a:\\n',a)\n",
    "\n",
    "#step2: The shape of the array\n",
    "print('The shape of the array a is :\\n',a.shape)\n",
    "\n",
    "#step 3:Adding an axis in the index position 1\n",
    "b = np.expand_dims(a, axis=1)\n",
    "print('The shape of the array of adding an axis in the index position 1:\\n',b.shape)\n",
    "\n",
    "#step4: The elements 0f the array b with index  position 1\n",
    "print('The elements of the array b:\\n',b)\n",
    "\n",
    "#Step 5: Adding an axis in the index position 0\n",
    "b = np.expand_dims(a, axis=0)\n",
    "print('The shape of the array of adding an axis in the index position 0:\\n',b.shape)\n",
    "\n",
    "\n",
    "#step6: The elements of the array b with index position 0\n",
    "print('The elements of the array b:\\n',b)\n",
    "\n"
   ]
  },
  {
   "cell_type": "code",
   "execution_count": 33,
   "id": "98df44b5",
   "metadata": {},
   "outputs": [
    {
     "name": "stdout",
     "output_type": "stream",
     "text": [
      "The one dimensional array arr is:\n",
      " [0 1 2 3 4 5 6 7 8]\n",
      "reversed an array:\n",
      " [8 7 6 5 4 3 2 1 0]\n"
     ]
    }
   ],
   "source": [
    "#Section: How to reverse an array\n",
    "\n",
    "#Reversing the 1-D array\n",
    "#step1: print 1-D array\n",
    "arr = np.arange(9)\n",
    "print('The one dimensional array arr is:\\n',arr)\n",
    "\n",
    "#Step2:Reverse an array\n",
    "print('reversed array is:\\n', np.flip(arr))\n"
   ]
  },
  {
   "cell_type": "code",
   "execution_count": 37,
   "id": "a02dac1e",
   "metadata": {},
   "outputs": [
    {
     "name": "stdout",
     "output_type": "stream",
     "text": [
      "printing an 2-D array:\n",
      " [[ 1  2  3  4]\n",
      " [ 5  6  7  8]\n",
      " [ 9 10 11 12]]\n",
      "Reversing the contents of all the rows and columns of a 2D array:\n",
      " [[12 11 10  9]\n",
      " [ 8  7  6  5]\n",
      " [ 4  3  2  1]]\n",
      "Reversing only the rows of a 2D array:\n",
      " [[ 9 10 11 12]\n",
      " [ 5  6  7  8]\n",
      " [ 1  2  3  4]]\n",
      "Reversing only the columns of a 2D array:\n",
      " [[ 4  3  2  1]\n",
      " [ 8  7  6  5]\n",
      " [12 11 10  9]]\n"
     ]
    }
   ],
   "source": [
    "#Reversing a 2D array\n",
    "\n",
    "#step1: printing an 2-D array\n",
    "arr_2d = np.array([[1, 2, 3, 4], [5, 6, 7, 8], [9, 10, 11, 12]])\n",
    "print('printing an 2-D array:\\n',arr_2d)\n",
    "\n",
    "#step2: Reversing the contents of all the rows and columns of a 2D array\n",
    "reversed_arr = np.flip(arr_2d)\n",
    "print('Reversing the contents of all the rows and columns of a 2D array:\\n', np.flip(arr_2d))\n",
    "\n",
    "#step3:Reversing only the rows\n",
    "print('Reversing only the rows of a 2D array:\\n', np.flip(arr_2d, axis=0))\n",
    "\n",
    "\n",
    "#step3:Reversing only the columns\n",
    "print('Reversing only the columns of a 2D array:\\n', np.flip(arr_2d, axis=1))\n",
    "\n",
    "\n",
    "\n"
   ]
  },
  {
   "cell_type": "code",
   "execution_count": 66,
   "id": "cee5243d",
   "metadata": {},
   "outputs": [
    {
     "name": "stdout",
     "output_type": "stream",
     "text": [
      "prints the elements of an array:\n",
      " [1 2 3 4 5 6]\n"
     ]
    }
   ],
   "source": [
    "#section How to access docstring for more information\n",
    "\n",
    "#step 1:The maximum function returns the maximum value\n",
    "#print('Retuns the docstring for the function max:\\n',help(max))\n",
    "\n",
    "#step2:Creates an array \n",
    "a = np.array([1, 2, 3, 4, 5, 6])\n",
    "print('prints the elements of an array:\\n',a)\n",
    "\n",
    "#step3:prints the docstring of the array a\n",
    "#a?\n",
    "\n",
    "#step4: create a function\n",
    "def double(a):\n",
    "  '''Return a * 2'''\n",
    "  return a * 2\n",
    "\n",
    "\n",
    "#step 4: To obtain the information about about the function\n",
    "#double?\n",
    "\n",
    "#step5:To access the source code of the object\n",
    "#double??\n",
    "\n",
    "#len??\n"
   ]
  },
  {
   "cell_type": "code",
   "execution_count": 67,
   "id": "6c26a04d",
   "metadata": {},
   "outputs": [],
   "source": [
    "#Section:Working with Mathematical formulas\n"
   ]
  },
  {
   "cell_type": "code",
   "execution_count": 71,
   "id": "4a2f6e06",
   "metadata": {},
   "outputs": [
    {
     "name": "stdout",
     "output_type": "stream",
     "text": [
      "The number of elements of the array a:\n",
      " [1 2 3 4 5 6]\n"
     ]
    },
    {
     "data": {
      "text/plain": [
       "array([1., 2., 3., 4., 5., 6.])"
      ]
     },
     "execution_count": 71,
     "metadata": {},
     "output_type": "execute_result"
    }
   ],
   "source": [
    "#section How to save and load Numpy objects\n",
    "#step:printing the list of elements of the array a\n",
    "a = np.array([1, 2, 3, 4, 5, 6])\n",
    "print('The number of elements of the array a:\\n',a)\n",
    "\n",
    "#step2: Saving it as numpy file\n",
    "#np.save('filename', a)\n",
    "\n",
    "#step3: saving it as csv file\n",
    "np.savetxt('new_file.csv', a)\n",
    "\n",
    "#step4: loading your saved file\n",
    "np.loadtxt('new_file.csv')\n"
   ]
  },
  {
   "cell_type": "code",
   "execution_count": 84,
   "id": "0f58a67d",
   "metadata": {},
   "outputs": [
    {
     "name": "stdout",
     "output_type": "stream",
     "text": [
      "printing the elements of the array a:\n",
      " [ 2  1  5  7  4  6  8 14 10  9 18 20 22]\n"
     ]
    },
    {
     "data": {
      "text/plain": [
       "[<matplotlib.lines.Line2D at 0x1f2eeb710f0>]"
      ]
     },
     "execution_count": 84,
     "metadata": {},
     "output_type": "execute_result"
    },
    {
     "data": {
      "image/png": "[encoded data removed]",
      "text/plain": [
       "<Figure size 432x288 with 1 Axes>"
      ]
     },
     "metadata": {
      "needs_background": "light"
     },
     "output_type": "display_data"
    }
   ],
   "source": [
    "#Section Plotting arrays with matplotlib\n",
    "#step1: printing the elements of the array a\n",
    "a = np.array([2, 1, 5, 7, 4, 6, 8, 14, 10, 9, 18, 20, 22])\n",
    "print('printing the elements of the array a:\\n',a)\n",
    "\n",
    "#step2:Importing the matpltlib.pyplot\n",
    "import matplotlib.pyplot as plt\n",
    "# If you're using Jupyter Notebook, you may also want to run the following\n",
    "# line of code to display your code in the notebook:\n",
    "%matplotlib inline\n",
    "plt.plot(a,'red')\n",
    "plt.plot(a,'+')\n",
    "\n",
    "\n"
   ]
  },
  {
   "cell_type": "code",
   "execution_count": 78,
   "id": "1694c9eb",
   "metadata": {},
   "outputs": [
    {
     "name": "stdout",
     "output_type": "stream",
     "text": [
      "prints the list of 20 elements from 0 to 5:\n",
      " [0.         0.26315789 0.52631579 0.78947368 1.05263158 1.31578947\n",
      " 1.57894737 1.84210526 2.10526316 2.36842105 2.63157895 2.89473684\n",
      " 3.15789474 3.42105263 3.68421053 3.94736842 4.21052632 4.47368421\n",
      " 4.73684211 5.        ]\n",
      "prints the list of 20 elements from 0 to 20:\n",
      " [ 0.          0.52631579  1.05263158  1.57894737  2.10526316  2.63157895\n",
      "  3.15789474  3.68421053  4.21052632  4.73684211  5.26315789  5.78947368\n",
      "  6.31578947  6.84210526  7.36842105  7.89473684  8.42105263  8.94736842\n",
      "  9.47368421 10.        ]\n"
     ]
    },
    {
     "data": {
      "text/plain": [
       "[<matplotlib.lines.Line2D at 0x1f2ee95d630>]"
      ]
     },
     "execution_count": 78,
     "metadata": {},
     "output_type": "execute_result"
    },
    {
     "data": {
      "image/png": "[encoded data removed]",
      "text/plain": [
       "<Figure size 432x288 with 1 Axes>"
      ]
     },
     "metadata": {
      "needs_background": "light"
     },
     "output_type": "display_data"
    }
   ],
   "source": [
    "#Step 1:print 20 elements linearly from 0 to 5\n",
    "x = np.linspace(0, 5, 20)\n",
    "print('prints the list of 20 elements from 0 to 5:\\n',x)\n",
    "\n",
    "#step 2:prints 20 elements linearly from 0 to 10\n",
    "y = np.linspace(0, 10, 20)\n",
    "print('prints the list of 20 elements from 0 to 20:\\n',y)\n",
    "\n",
    "#step 3:plot the graph\n",
    "plt.plot(x, y, 'purple') # line\n",
    "\n",
    "#step 4: represent the points of the plot in graph\n",
    "plt.plot(x, y, 'o')      # dots\n",
    "\n",
    "\n"
   ]
  },
  {
   "cell_type": "code",
   "execution_count": 119,
   "id": "21062d64",
   "metadata": {},
   "outputs": [
    {
     "name": "stdout",
     "output_type": "stream",
     "text": [
      "Adding the subplot:\n",
      " Axes3DSubplot(0.125,0.125;0.775x0.755) \n",
      "\n",
      "Print the numbers form -5 to -2 with an increment of 0.15 for X:\n",
      " [-5.  -4.1 -3.2 -2.3] \n",
      "\n",
      "print the numbers from -5 to 5 with an increment of 0.15 for Y:\n",
      " [-5.  -4.1 -3.2 -2.3] \n",
      "\n",
      "Creating the mesh grid for X:\n",
      " [[-5.  -4.1 -3.2 -2.3]\n",
      " [-5.  -4.1 -3.2 -2.3]\n",
      " [-5.  -4.1 -3.2 -2.3]\n",
      " [-5.  -4.1 -3.2 -2.3]] \n",
      " creating the mess grid for Y:\n",
      " [[-5.  -5.  -5.  -5. ]\n",
      " [-4.1 -4.1 -4.1 -4.1]\n",
      " [-3.2 -3.2 -3.2 -3.2]\n",
      " [-2.3 -2.3 -2.3 -2.3]] \n",
      "\n",
      "Creating the square root from the variable X and Y:\n",
      " [[7.07106781 6.46606526 5.93632883 5.50363516]\n",
      " [6.46606526 5.79827561 5.20096145 4.70106371]\n",
      " [5.93632883 5.20096145 4.5254834  3.9408121 ]\n",
      " [5.50363516 4.70106371 3.9408121  3.25269119]] \n",
      "\n",
      "using the value R to applying the trignometric function sin on R:\n",
      " [[ 0.70886129  0.18186225 -0.33994318 -0.70295954]\n",
      " [ 0.18186225 -0.46612847 -0.88300379 -0.99993587]\n",
      " [-0.33994318 -0.88300379 -0.98258394 -0.71681205]\n",
      " [-0.70295954 -0.99993587 -0.71681205 -0.11087013]]\n"
     ]
    },
    {
     "data": {
      "text/plain": [
       "<mpl_toolkits.mplot3d.art3d.Poly3DCollection at 0x1f2efd1ab00>"
      ]
     },
     "execution_count": 119,
     "metadata": {},
     "output_type": "execute_result"
    },
    {
     "data": {
      "image/png": "[encoded data removed]",
      "text/plain": [
       "<Figure size 432x288 with 1 Axes>"
      ]
     },
     "metadata": {
      "needs_background": "light"
     },
     "output_type": "display_data"
    }
   ],
   "source": [
    "#other visualization option\n",
    "#step 1: creating the figure\n",
    "fig=plt.figure()\n",
    "\n",
    "#step2: adding the subplot\n",
    "\n",
    "print('Adding the subplot:\\n',fig.add_subplot(projection='3d'),'\\n')\n",
    "\n",
    "#Step 3: creating the data with the numbers from-5 to 0 with the increment of .15\n",
    "X = np.arange(-5, -2, 0.90)\n",
    "print('Print the numbers form -5 to -2 with an increment of 0.15 for X:\\n',X,'\\n')\n",
    "\n",
    "#step 4:creating the data with the numbers from -5 to -2 with the increment of .15\n",
    "Y = np.arange(-5, -2, 0.90)\n",
    "print('print the numbers from -5 to 5 with an increment of 0.15 for Y:\\n',Y,'\\n')\n",
    "\n",
    "#Step 5:creating the mesh grid\n",
    "X, Y = np.meshgrid(X, Y)\n",
    "print('Creating the mesh grid for X:\\n',X,'\\n','creating the mess grid for Y:\\n',Y,'\\n')\n",
    "\n",
    "#step 6:creating the square root for the X and Y\n",
    "R = np.sqrt(X**2 + Y**2)\n",
    "print('Creating the square root from the variable X and Y:\\n',R,'\\n')\n",
    "\n",
    "#step 7:using the value R to applying the trignometric function sin on R\n",
    "Z = np.sin(R)\n",
    "print('using the value R to applying the trignometric function sin on R:\\n',Z)\n",
    "\n",
    "#step 8:plotting the graph\n",
    "ax.plot_surface(X, Y, Z, rstride=1, cstride=1, cmap='viridis')\n",
    "\n",
    "\n"
   ]
  },
  {
   "cell_type": "code",
   "execution_count": 122,
   "id": "1811f4ba",
   "metadata": {},
   "outputs": [
    {
     "name": "stdout",
     "output_type": "stream",
     "text": [
      "creating the list od 1D array:\n",
      " [1 2 3 4]\n",
      "Creating a list of 2D array:\n",
      " [[1 2]\n",
      " [3 4]]\n",
      "creating a list of 3D array:\n",
      " [[[1 2]\n",
      "  [3 4]]\n",
      "\n",
      " [[5 6]\n",
      "  [7 8]]]\n"
     ]
    }
   ],
   "source": [
    " #Converting python sequences to Numpy Arrays\n",
    "#step 1: creating a list od 1D arrays\n",
    "a1D = np.array([1, 2, 3, 4])\n",
    "print('creating the list od 1D array:\\n',a1D)\n",
    "\n",
    "#step 2:creating a list of 2D array\n",
    "a2D = np.array([[1, 2], [3, 4]])\n",
    "print('Creating a list of 2D array:\\n',a2D)\n",
    "\n",
    "#step 3: creating a list of 3D array\n",
    "a3D = np.array([[[1, 2], [3, 4]], [[5, 6], [7, 8]]])\n",
    "print('creating a list of 3D array:\\n',a3D)"
   ]
  },
  {
   "cell_type": "code",
   "execution_count": 127,
   "id": "18ce726d",
   "metadata": {
    "scrolled": true
   },
   "outputs": [
    {
     "name": "stdout",
     "output_type": "stream",
     "text": [
      "Create an array of 10 elements:\n",
      " [0 1 2 3 4 5 6 7 8 9]\n",
      "create an array of 10 elements starting from 2:\n",
      " [2. 3. 4. 5. 6. 7. 8. 9.]\n",
      "create an array starting with 2 and ending with 3 with a increment of  0.1:\n",
      " [2.  2.1 2.2 2.3 2.4 2.5 2.6 2.7 2.8 2.9]\n",
      "Create an array of elements starting from 1. and ending with 4. and there must be only 6 elements between the range:\n",
      " [1.  1.6 2.2 2.8 3.4 4. ]\n"
     ]
    }
   ],
   "source": [
    "#Section :Intrinsic numpy array creation function:\n",
    "#step1:create an array of 10 elements\n",
    "print('Create an array of 10 elements:\\n',np.arange(10))\n",
    "\n",
    "#step2:create an array of 10 elements starting from 2 having float data type\n",
    "print('create an array of 10 elements starting from 2:\\n',np.arange(2, 10, dtype=float))\n",
    "\n",
    "#step3:create an array starting with 2 and ending with 3 with a increment of  0.1\n",
    "print('create an array starting with 2 and ending with 3 with a increment of  0.1:\\n',np.arange(2, 3, 0.1))\n",
    "\n",
    "#step4:Create an array of elements starting from 1. and ending with 4. and there must be only 6 elements between the range and are spaced equally\n",
    "print('Create an array of elements starting from 1. and ending with 4. and there must be only 6 elements between the range:\\n',np.linspace(1., 4., 6))\n",
    "\n",
    "\n",
    "\n",
    "\n"
   ]
  },
  {
   "cell_type": "code",
   "execution_count": 129,
   "id": "9a41af77",
   "metadata": {},
   "outputs": [
    {
     "name": "stdout",
     "output_type": "stream",
     "text": [
      "Create a 2D identity matrix where row index and column index are equal to 1:\n",
      " [[1. 0. 0.]\n",
      " [0. 1. 0.]\n",
      " [0. 0. 1.]]\n",
      "Create a 2D identity matrix where row index and column index are equal to 1 having 3 rows and 5 columns:\n",
      " [[1. 0. 0. 0. 0.]\n",
      " [0. 1. 0. 0. 0.]\n",
      " [0. 0. 1. 0. 0.]]\n"
     ]
    }
   ],
   "source": [
    "# section 2D creation function\n",
    "#step1: Create a 2D identity matrix where row index and column index are equal to 1 having 3 rows and 3 columns\n",
    "print('Create a 2D identity matrix where row index and column index are equal to 1:\\n',np.eye(3))\n",
    "\n",
    "#step2:Create a 2D identity matrix where row index and column index are equal to 1 having 3 rows and 5 columns\n",
    "print('Create a 2D identity matrix where row index and column index are equal to 1 having 3 rows and 5 columns:\\n',np.eye(3, 5))\n"
   ]
  },
  {
   "cell_type": "code",
   "execution_count": 132,
   "id": "6c2238a5",
   "metadata": {},
   "outputs": [
    {
     "name": "stdout",
     "output_type": "stream",
     "text": [
      "create an matrix where the diagonal element is 1,2 and 3:\n",
      " [[1 0 0]\n",
      " [0 2 0]\n",
      " [0 0 3]]\n",
      "create a matrix where there are 4 columns and the diagonal values are 1,2 and 3:\n",
      " [[0 1 0 0]\n",
      " [0 0 2 0]\n",
      " [0 0 0 3]\n",
      " [0 0 0 0]]\n"
     ]
    }
   ],
   "source": [
    "#Section Numpy diagonal\n",
    "#step1: create a matrix where the diagonal element is 1,2 and 3\n",
    "print('create an matrix where the diagonal element is 1,2 and 3:\\n',np.diag([1, 2, 3]))\n",
    "\n",
    "#step2: create a matrix where there are 4 columns and the diagonal values are 1,2 and 3\n",
    "print('create a matrix where there are 4 columns and the diagonal values are 1,2 and 3:\\n',np.diag([1, 2, 3], 1))\n",
    "\n"
   ]
  },
  {
   "cell_type": "code",
   "execution_count": 138,
   "id": "649c6102",
   "metadata": {},
   "outputs": [
    {
     "name": "stdout",
     "output_type": "stream",
     "text": [
      "Create an array with the starting element as 0 and ending element as 2 but onlt having 5 elements between them:\n",
      " [0.  0.5 1.  1.5 2. ]\n",
      "Create a vander matrix with the input as 1D array and having 2 columns:\n",
      " [[0.  1. ]\n",
      " [0.5 1. ]\n",
      " [1.  1. ]\n",
      " [1.5 1. ]\n",
      " [2.  1. ]]\n",
      "create a Vander matrix with the sequence tupe having 4 columns:\n",
      " [[  1   1   1   1   1]\n",
      " [ 16   8   4   2   1]\n",
      " [ 81  27   9   3   1]\n",
      " [256  64  16   4   1]]\n"
     ]
    }
   ],
   "source": [
    "#Vander Matrix\n",
    "#step 1: Create an array with the starting element as 0 and ending element as 2 but onlt having 5 elements between them\n",
    "print('Create an array with the starting element as 0 and ending element as 2 but onlt having 5 elements between them:\\n',np.linspace(0, 2, 5))\n",
    "\n",
    "#step 2: Create a vander matrix with the input as 1D array and having 2 columns\n",
    "print('Create a vander matrix with the input as 1D array and having 2 columns:\\n',np.vander(np.linspace(0, 2, 5), 2))\n",
    "\n",
    "#Step 3: create a Vander matrix with the sequence tupe having 4 columns \n",
    "print('create a Vander matrix with the sequence tupe having 4 columns:\\n',np.vander((1, 2, 3, 4), 4))\n",
    "\n"
   ]
  },
  {
   "cell_type": "code",
   "execution_count": 139,
   "id": "bd8b26cf",
   "metadata": {},
   "outputs": [],
   "source": [
    "#replicating,joining or mutating existing arrays\n"
   ]
  },
  {
   "cell_type": "code",
   "execution_count": 169,
   "id": "ccc310aa",
   "metadata": {},
   "outputs": [
    {
     "name": "stdout",
     "output_type": "stream",
     "text": [
      "Create an array of elements from 0 to 9 [0 1 2 3 4 5 6 7 8 9]\n",
      "Select all the elements starting from index 1 to 7 and only every second element:\n",
      " [1 3 5]\n",
      "creating an array with 2-D  with 3 rows and 1 columns:\n",
      " [[[1]\n",
      "  [2]\n",
      "  [3]]\n",
      "\n",
      " [[4]\n",
      "  [5]\n",
      "  [6]]]\n",
      "printing all the elements of the array along the axis 0:\n",
      " [[1 2 3]\n",
      " [4 5 6]] \n",
      "\n",
      "[[[[1]\n",
      "   [2]\n",
      "   [3]]]\n",
      "\n",
      "\n",
      " [[[4]\n",
      "   [5]\n",
      "   [6]]]]\n"
     ]
    }
   ],
   "source": [
    "#Basic Indexing\n",
    "#step1: Create an array of elements from 0 to 9\n",
    "a=np.arange(10)\n",
    "print('Create an array of elements from 0 to 9',np.arange(10))\n",
    "\n",
    "#step2:Select all the elements starting from index 1 to 7 and only every second element\n",
    "print('Select all the elements starting from index 1 to 7 and only every second element:\\n',a[1:7:2])\n",
    "\n",
    "#step3: The basic syntax is i:j:k where i is the starting index, j is the stopping index and k is the step\n",
    "\n",
    "#step 4: creating an array with 2-D  with 3 rows and 1 columns\n",
    "x = np.array([[[1],[2],[3]], [[4],[5],[6]]])\n",
    "print('creating an array with 2-D  with 3 rows and 1 columns:\\n',x)\n",
    "\n",
    "#Step 5: printing all the elements of the array along the axis 0\n",
    "print('printing all the elements of the array along the axis 0:\\n',x[:, :, 0],'\\n')\n",
    "\n",
    "print(x[:, np.newaxis, :, :])\n",
    "\n",
    "\n"
   ]
  },
  {
   "cell_type": "code",
   "execution_count": 192,
   "id": "c26740c3",
   "metadata": {},
   "outputs": [
    {
     "name": "stdout",
     "output_type": "stream",
     "text": [
      "Create an array of 35 elements having 5 rows and 7 columns:\n",
      " [[ 0  1  2  3  4  5  6]\n",
      " [ 7  8  9 10 11 12 13]\n",
      " [14 15 16 17 18 19 20]\n",
      " [21 22 23 24 25 26 27]\n",
      " [28 29 30 31 32 33 34]]\n",
      "Select the 0th row,secondth row and fourth row:\n",
      " [ 0 15 30]\n"
     ]
    }
   ],
   "source": [
    "#Step 1:Create an array of 35 elements having 5 rows and 7 columns is a 2D array\n",
    "y = np.arange(35).reshape(5, 7)\n",
    "print('Create an array of 35 elements having 5 rows and 7 columns:\\n',y)\n",
    "\n",
    "#step 2: Select the 0th row,secondth row and fourth row and 0th column, first column and secondth column would be\n",
    "#the intersection of the above row.\n",
    "print('Select the 0th row,secondth row and fourth row:\\n',y[np.array([0,2,4]),np.array([0,1,2])])\n",
    "\n",
    "\n"
   ]
  },
  {
   "cell_type": "code",
   "execution_count": 193,
   "id": "561dbae2",
   "metadata": {},
   "outputs": [
    {
     "name": "stdout",
     "output_type": "stream",
     "text": [
      "Create array of 10 elements:\n",
      " [0 1 2 3 4 5 6 7 8 9]\n",
      "Reshape the array into 2 rows and 5 columns which is a 2D array:\n",
      " [[0 1 2 3 4]\n",
      " [5 6 7 8 9]]\n",
      "Find the elements of the array at row 1 and column 3:\n",
      " 8\n"
     ]
    }
   ],
   "source": [
    "#step 2:Create array of 10 elements \n",
    "x = np.arange(10)\n",
    "print('Create array of 10 elements:\\n',x)\n",
    "\n",
    "#step 2: Reshape the array into 2 rows and 5 columns which is a 2D array\n",
    "x=x.reshape(2,5)\n",
    "print('Reshape the array into 2 rows and 5 columns which is a 2D array:\\n',x.reshape(2,5))\n",
    "\n",
    "#step 3: Find the elements of the array at row 1 and column 3\n",
    "print('Find the elements of the array at row 1 and column 3:\\n',x[1, 3])\n",
    "\n",
    "\n",
    "\n",
    "\n"
   ]
  },
  {
   "cell_type": "code",
   "execution_count": 207,
   "id": "6a209fde",
   "metadata": {},
   "outputs": [
    {
     "name": "stdout",
     "output_type": "stream",
     "text": [
      "create an array of 35 elements reshaped into 2D having 5 rows and 7 columns:\n",
      " [[ 0  1  2  3  4  5  6]\n",
      " [ 7  8  9 10 11 12 13]\n",
      " [14 15 16 17 18 19 20]\n",
      " [21 22 23 24 25 26 27]\n",
      " [28 29 30 31 32 33 34]]\n"
     ]
    },
    {
     "ename": "IndexError",
     "evalue": "index 5 is out of bounds for axis 1 with size 5",
     "output_type": "error",
     "traceback": [
      "\u001b[1;31m---------------------------------------------------------------------------\u001b[0m",
      "\u001b[1;31mIndexError\u001b[0m                                Traceback (most recent call last)",
      "Input \u001b[1;32mIn [207]\u001b[0m, in \u001b[0;36m<module>\u001b[1;34m\u001b[0m\n\u001b[0;32m      5\u001b[0m \u001b[38;5;66;03m#step 2:Create a boolean array with condition every element of the array a should be greater than 20\u001b[39;00m\n\u001b[0;32m      6\u001b[0m b \u001b[38;5;241m=\u001b[39m x \u001b[38;5;241m>\u001b[39m \u001b[38;5;241m20\u001b[39m\n\u001b[1;32m----> 7\u001b[0m \u001b[43mb\u001b[49m\u001b[43m[\u001b[49m\u001b[43m:\u001b[49m\u001b[43m,\u001b[49m\u001b[38;5;241;43m5\u001b[39;49m\u001b[43m]\u001b[49m\n\u001b[0;32m      8\u001b[0m \u001b[38;5;28mprint\u001b[39m(\u001b[38;5;124m'\u001b[39m\u001b[38;5;124mCreate a boolean array with condition every element of the array a should be greater than 20:\u001b[39m\u001b[38;5;130;01m\\n\u001b[39;00m\u001b[38;5;124m'\u001b[39m,b[:,\u001b[38;5;241m5\u001b[39m])\n",
      "\u001b[1;31mIndexError\u001b[0m: index 5 is out of bounds for axis 1 with size 5"
     ]
    }
   ],
   "source": [
    "#Boolean array indexing\n",
    "#step 1: create an array of 35 elements reshaped into 2D having 5 rows and 7 columns\n",
    "print('create an array of 35 elements reshaped into 2D having 5 rows and 7 columns:\\n',np.arange(35).reshape(5,7))\n",
    "\n",
    "#step 2:Create a boolean array with condition every element of the array a should be greater than 20\n",
    "b = x > 20\n",
    "b[:,5]\n",
    "print('Create a boolean array with condition every element of the array a should be greater than 20:\\n',b[:,5])"
   ]
  },
  {
   "cell_type": "code",
   "execution_count": 213,
   "id": "f111a75b",
   "metadata": {},
   "outputs": [
    {
     "name": "stdout",
     "output_type": "stream",
     "text": [
      "create an 2D array with 3 rows and 2 columns:\n",
      " [[0 1]\n",
      " [1 1]\n",
      " [2 2]]\n",
      "The shape of the array x is:\n",
      " (3, 2)\n",
      "The sum across the row for the array x:\n",
      " [1 2 4]\n",
      "select all rows which sum up to less or equal two:\n",
      " [[0 1]\n",
      " [1 1]]\n"
     ]
    }
   ],
   "source": [
    "#step 1: create an 2D array with 3 rows and 2 columns\n",
    "x = np.array([[0, 1], [1, 1], [2, 2]])\n",
    "print('create an 2D array with 3 rows and 2 columns:\\n',x)\n",
    "\n",
    "#step 2: Find the shape of the array x\n",
    "print('The shape of the array x is:\\n',x.shape)\n",
    "\n",
    "#step 3: Find the sum accross the row for the array x\n",
    "rowsum = x.sum(-1)\n",
    "print('The sum across the row for the array x:\\n',rowsum)\n",
    "\n",
    "#step 4: select all rows which sum up to less or equal two\n",
    "print('select all rows which sum up to less or equal two:\\n',x[rowsum <= 2, :])\n"
   ]
  },
  {
   "cell_type": "code",
   "execution_count": 216,
   "id": "33a77232",
   "metadata": {},
   "outputs": [
    {
     "name": "stdout",
     "output_type": "stream",
     "text": [
      "create a single dimensional array with 10 elements:\n",
      " [0 1 2 3 4 5 6 7 8 9]\n",
      "printing the array x with 1 from index 2 till 7:\n",
      " [0 1 1 1 1 1 1 7 8 9]\n"
     ]
    }
   ],
   "source": [
    "#Assigning values to indexed arrays\n",
    "\n",
    "#step 1: create a single dimensional array with 10 elements\n",
    "x = np.arange(10)\n",
    "print('create a single dimensional array with 10 elements:\\n',x)\n",
    "\n",
    "#step 2:Assign the values from index 2 to 7 with 1\n",
    "x[2:7] = 1\n",
    "print('printing the array x with 1 from index 2 till 7:\\n',x)\n"
   ]
  },
  {
   "cell_type": "code",
   "execution_count": 3,
   "id": "933ed31a",
   "metadata": {},
   "outputs": [
    {
     "name": "stdout",
     "output_type": "stream",
     "text": [
      "The variable number of indices within program:\n",
      " [[[[ 0  1  2]\n",
      "   [ 3  4  5]\n",
      "   [ 6  7  8]]\n",
      "\n",
      "  [[ 9 10 11]\n",
      "   [12 13 14]\n",
      "   [15 16 17]]\n",
      "\n",
      "  [[18 19 20]\n",
      "   [21 22 23]\n",
      "   [24 25 26]]]\n",
      "\n",
      "\n",
      " [[[27 28 29]\n",
      "   [30 31 32]\n",
      "   [33 34 35]]\n",
      "\n",
      "  [[36 37 38]\n",
      "   [39 40 41]\n",
      "   [42 43 44]]\n",
      "\n",
      "  [[45 46 47]\n",
      "   [48 49 50]\n",
      "   [51 52 53]]]\n",
      "\n",
      "\n",
      " [[[54 55 56]\n",
      "   [57 58 59]\n",
      "   [60 61 62]]\n",
      "\n",
      "  [[63 64 65]\n",
      "   [66 67 68]\n",
      "   [69 70 71]]\n",
      "\n",
      "  [[72 73 74]\n",
      "   [75 76 77]\n",
      "   [78 79 80]]]]\n"
     ]
    }
   ],
   "source": [
    "#Dealing with variable number of indices within programs\n",
    "import numpy as np\n",
    "z = np.arange(81).reshape(3,3,3,3)\n",
    "print('The variable number of indices within program:\\n',z)\n",
    "\n",
    "z?"
   ]
  },
  {
   "cell_type": "code",
   "execution_count": 1,
   "id": "7a830ff0",
   "metadata": {},
   "outputs": [
    {
     "name": "stdout",
     "output_type": "stream",
     "text": [
      "Object `a` not found.\n"
     ]
    }
   ],
   "source": [
    "\n"
   ]
  },
  {
   "cell_type": "code",
   "execution_count": null,
   "id": "cbfe5824",
   "metadata": {},
   "outputs": [],
   "source": []
  },
  {
   "cell_type": "code",
   "execution_count": null,
   "id": "d9d7725e",
   "metadata": {},
   "outputs": [],
   "source": []
  }
 ],
 "metadata": {
  "kernelspec": {
   "display_name": "Python 3 (ipykernel)",
   "language": "python",
   "name": "python3"
  },
  "language_info": {
   "codemirror_mode": {
    "name": "ipython",
    "version": 3
   },
   "file_extension": ".py",
   "mimetype": "text/x-python",
   "name": "python",
   "nbconvert_exporter": "python",
   "pygments_lexer": "ipython3",
   "version": "3.10.2"
  }
 },
 "nbformat": 4,
 "nbformat_minor": 5
}
